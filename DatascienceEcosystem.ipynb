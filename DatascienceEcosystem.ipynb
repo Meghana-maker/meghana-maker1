{
 "cells": [
  {
   "cell_type": "markdown",
   "metadata": {
    "tags": []
   },
   "source": [
    "# Data Science Tools and Ecosystem"
   ]
  },
  {
   "cell_type": "markdown",
   "metadata": {},
   "source": [
    "The data science tools and ecosystem encompass a wide range of components and technologies that enable data scientists to extract valuable insights from data. It includes data collection and storage, data cleaning and preprocessing, data visualization, exploratory data analysis (EDA), machine learning and AI frameworks, statistical analysis, big data and distributed computing tools, natural language processing (NLP), data integration and pipelines, and cloud platforms. This dynamic and evolving ecosystem empowers data scientists to work with diverse datasets and make data-driven decisions, contributing to the transformative impact of data science in various domains.\n",
    "\n"
   ]
  },
  {
   "cell_type": "markdown",
   "metadata": {},
   "source": [
    "**Objectives**\n",
    "* The primary objective of using popular programming languages for data science is to effectively analyse, manipulate, and interpret data to derive meaningful insights and make data-driven decisions. These languages offer libraries, frameworks, and tools that facilitate various data science tasks. Some of the popular programming languages for data science include:\n",
    "* Python: Python is widely used in data science due to its versatility, ease of use, and a vast ecosystem of libraries like NumPy, Pandas, Matplotlib, and scikit-learn, which provide powerful tools for data manipulation, visualization, and machine learning.\n",
    "* R: R is specifically designed for statistical computing and data analysis. It offers a rich set of packages like ggplot2, dplyr, and tidyr, making it suitable for data exploration, visualization, and advanced statistical modelling.\n",
    "* SQL: SQL (Structured Query Language) is essential for managing and querying relational databases. Data scientists often use SQL to extract, manipulate, and aggregate data from databases efficiently.\n",
    "* The objective of using these languages is to empower data scientists with the necessary tools and resources to handle complex data tasks effectively, enabling them to gain valuable insights and deliver impactful results in diverse data science projects."
   ]
  },
  {
   "cell_type": "markdown",
   "metadata": {},
   "source": [
    "Some of the popular languages that data scientists use are:\n",
    "1. SQL\n",
    "2. Phython\n",
    "3. R\n",
    "4. jAVA\n",
    "5. Scala"
   ]
  },
  {
   "cell_type": "markdown",
   "metadata": {},
   "source": [
    "Some of the commonly used libraries used by Data Scientists include:\n",
    "1. Pytorch\n",
    "2. scikit-learn\n",
    "3. tensor flow\n",
    "4. Pandas\n",
    "5. Numpy"
   ]
  },
  {
   "cell_type": "markdown",
   "metadata": {},
   "source": [
    "| Open Source Tool |\n",
    "|------------------|\n",
    "| Pandas           |\n",
    "| Spark            |\n",
    "| Hadoop           |\n",
    "| Knime            |"
   ]
  },
  {
   "cell_type": "markdown",
   "metadata": {},
   "source": [
    "### Below are a few examples of evaluating arithmetic expressions in Python"
   ]
  },
  {
   "cell_type": "markdown",
   "metadata": {
    "tags": []
   },
   "source": [
    "This a simple arithmetic expression to mutiply then add integers"
   ]
  },
  {
   "cell_type": "code",
   "execution_count": 9,
   "metadata": {
    "tags": []
   },
   "outputs": [
    {
     "data": {
      "text/plain": [
       "17"
      ]
     },
     "execution_count": 9,
     "metadata": {},
     "output_type": "execute_result"
    }
   ],
   "source": [
    "#This a simple arithmetic expression to mutiply then add integers \n",
    "(3*4)+5"
   ]
  },
  {
   "cell_type": "code",
   "execution_count": 5,
   "metadata": {
    "tags": []
   },
   "outputs": [
    {
     "data": {
      "text/plain": [
       "3.3333333333333335"
      ]
     },
     "execution_count": 5,
     "metadata": {},
     "output_type": "execute_result"
    }
   ],
   "source": [
    "#This will convert 200 minutes to hours by diving by 60\n",
    "200/60"
   ]
  },
  {
   "cell_type": "markdown",
   "metadata": {},
   "source": [
    "## Author ##\n",
    "Meghana D. V."
   ]
  },
  {
   "cell_type": "code",
   "execution_count": null,
   "metadata": {},
   "outputs": [],
   "source": []
  }
 ],
 "metadata": {
  "kernelspec": {
   "display_name": "Python",
   "language": "python",
   "name": "conda-env-python-py"
  },
  "language_info": {
   "codemirror_mode": {
    "name": "ipython",
    "version": 3
   },
   "file_extension": ".py",
   "mimetype": "text/x-python",
   "name": "python",
   "nbconvert_exporter": "python",
   "pygments_lexer": "ipython3",
   "version": "3.7.12"
  }
 },
 "nbformat": 4,
 "nbformat_minor": 4
}
